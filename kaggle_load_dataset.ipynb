{
  "nbformat": 4,
  "nbformat_minor": 0,
  "metadata": {
    "colab": {
      "name": "kaggle_load_dataset.ipynb",
      "provenance": [],
      "collapsed_sections": [],
      "toc_visible": true
    },
    "kernelspec": {
      "name": "python3",
      "display_name": "Python 3"
    }
  },
  "cells": [
    {
      "cell_type": "markdown",
      "metadata": {
        "id": "xf6HKYy9hLLS"
      },
      "source": [
        "# Datasets de Kaggle en Colab\n",
        "\n",
        "Cargar los datasets de Kaggle en Google Colab ahorra mucho tiempo y trabajo ya que evitaremos la descarga del dataset y su configuracion en nuestro equipo o Google Drive. Con la API de Kaggle podemos usar los servicios directamente desde Google Colab con pocas lineas de codigo.\n",
        "\n",
        "**Documentación Oficial:** https://github.com/Kaggle/kaggle-api  \n",
        "**Fuente Alternativa:** https://www.kaggle.com/general/51898\n",
        "\n",
        "## Requisitos:\n",
        "* Tener cuenta en Kaggle\n",
        "\n",
        "## Pasos:\n",
        "1. Obtener la API Credential de Kaggle\n",
        "2. Usar los dataset de Kaggle en Google Colab\n",
        "\n",
        "# 1. Obtener la API Credential de Kaggle\n",
        "* Autenticarse en Kaggle e ir My Account\n",
        "* Ir a la sección API y presionar el botón \"Create New API Token\"\n",
        "* Se descargará un archivo llamado kaggle.json con la configuracion de nuestra conexion a Kaggle, subir este archivo a nuestro Drive de Google\n",
        "\n"
      ]
    },
    {
      "cell_type": "markdown",
      "metadata": {
        "id": "QCN4Ig87Dl9y"
      },
      "source": [
        "## 2. Usar los dataset de Kaggle en Google Colab\n",
        "* Asignar la ruta del directorio donde se guardó el archivo kaggle.json a la variable de entorno os.environ['KAGGLE_CONFIG_DIR']\n",
        "* Con el comando \"!kaggle datasets download -d mi/dataset\" ya podemos descargar los datasets\n",
        "\n",
        "Ejemplo:"
      ]
    },
    {
      "cell_type": "code",
      "metadata": {
        "colab": {
          "base_uri": "https://localhost:8080/"
        },
        "id": "zsvWeVYE-Pgp",
        "outputId": "5fbd9c82-f9a8-4a54-b0f2-587907cc3218"
      },
      "source": [
        "!pip install --upgrade --force-reinstall --no-deps kaggle"
      ],
      "execution_count": null,
      "outputs": [
        {
          "output_type": "stream",
          "text": [
            "Collecting kaggle\n",
            "\u001b[?25l  Downloading https://files.pythonhosted.org/packages/99/33/365c0d13f07a2a54744d027fe20b60dacdfdfb33bc04746db6ad0b79340b/kaggle-1.5.10.tar.gz (59kB)\n",
            "\r\u001b[K     |█████▌                          | 10kB 13.2MB/s eta 0:00:01\r\u001b[K     |███████████                     | 20kB 9.2MB/s eta 0:00:01\r\u001b[K     |████████████████▋               | 30kB 8.6MB/s eta 0:00:01\r\u001b[K     |██████████████████████▏         | 40kB 7.4MB/s eta 0:00:01\r\u001b[K     |███████████████████████████▊    | 51kB 4.4MB/s eta 0:00:01\r\u001b[K     |████████████████████████████████| 61kB 3.2MB/s \n",
            "\u001b[?25hBuilding wheels for collected packages: kaggle\n",
            "  Building wheel for kaggle (setup.py) ... \u001b[?25l\u001b[?25hdone\n",
            "  Created wheel for kaggle: filename=kaggle-1.5.10-cp36-none-any.whl size=73269 sha256=bceaad79479713b51ca99cb81c465d98d2b950d5de3a1917541b76c2f7f82eb1\n",
            "  Stored in directory: /root/.cache/pip/wheels/3a/d1/7e/6ce09b72b770149802c653a02783821629146983ee5a360f10\n",
            "Successfully built kaggle\n",
            "Installing collected packages: kaggle\n",
            "  Found existing installation: kaggle 1.5.10\n",
            "    Uninstalling kaggle-1.5.10:\n",
            "      Successfully uninstalled kaggle-1.5.10\n",
            "Successfully installed kaggle-1.5.10\n"
          ],
          "name": "stdout"
        }
      ]
    },
    {
      "cell_type": "code",
      "metadata": {
        "id": "YyG3T7Ujc6qp",
        "colab": {
          "base_uri": "https://localhost:8080/"
        },
        "outputId": "50901ba9-d70b-490b-f921-89627c3d4d78"
      },
      "source": [
        "import os\n",
        "os.environ['KAGGLE_CONFIG_DIR'] = \"drive/My Drive/DeepLearning/kaggle/\"\n",
        "!kaggle competitions download -c vinbigdata-chest-xray-abnormalities-detection"
      ],
      "execution_count": null,
      "outputs": [
        {
          "output_type": "stream",
          "text": [
            "Downloading vinbigdata-chest-xray-abnormalities-detection.zip to /content\n",
            "  7% 9.65G/142G [02:31<1:15:23, 31.3MB/s]"
          ],
          "name": "stdout"
        }
      ]
    },
    {
      "cell_type": "markdown",
      "metadata": {
        "id": "Oh1ml4tRg_wh"
      },
      "source": [
        "Descomprimir el dataset"
      ]
    },
    {
      "cell_type": "code",
      "metadata": {
        "id": "j9tfsPeihwnA"
      },
      "source": [
        "!unzip -q vinbigdata-chest-xray-abnormalities-detection.zip\n"
      ],
      "execution_count": null,
      "outputs": []
    },
    {
      "cell_type": "markdown",
      "metadata": {
        "id": "yE_JhCWeiYV7"
      },
      "source": [
        "Listar los directorios del dataset"
      ]
    },
    {
      "cell_type": "code",
      "metadata": {
        "id": "CgFDPdNOijjn",
        "colab": {
          "base_uri": "https://localhost:8080/",
          "height": 34
        },
        "outputId": "ae550f6d-ee62-41a1-866f-a7b0dab49229"
      },
      "source": [
        "ls chest_xray/"
      ],
      "execution_count": null,
      "outputs": [
        {
          "output_type": "stream",
          "text": [
            "\u001b[0m\u001b[01;34mchest_xray\u001b[0m/  \u001b[01;34m__MACOSX\u001b[0m/  \u001b[01;34mtest\u001b[0m/  \u001b[01;34mtrain\u001b[0m/  \u001b[01;34mval\u001b[0m/\n"
          ],
          "name": "stdout"
        }
      ]
    }
  ]
}